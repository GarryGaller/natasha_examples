{
 "cells": [
  {
   "cell_type": "markdown",
   "metadata": {},
   "source": [
    "## NATASHA: SLOVNET И NAVEC... LOVE :-)"
   ]
  },
  {
   "cell_type": "code",
   "execution_count": null,
   "metadata": {},
   "outputs": [],
   "source": [
    "# !pip install wikipedia\n",
    "#!cd \n",
    "# текущий каталог загрузки - папка с блокнотами\n",
    "#!chcp 65001\n",
    "# 25 mb - этот через notebook почему-то тупит при загрузке\n",
    "#!wget https://storage.yandexcloud.net/natasha-navec/packs/navec_news_v1_1B_250K_300d_100q.tar\n",
    "# 2mb\n",
    "#!wget https://storage.yandexcloud.net/natasha-slovnet/packs/slovnet_ner_news_v1.tar   \n",
    "#!wget  https://storage.yandexcloud.net/natasha-slovnet/packs/slovnet_syntax_news_v1.tar \n",
    "    "
   ]
  },
  {
   "cell_type": "code",
   "execution_count": 56,
   "metadata": {},
   "outputs": [],
   "source": [
    "import wikipedia\n",
    "\n",
    "wikipedia.set_lang(\"ru\")\n",
    "moskow = wikipedia.page(\"Москва\")\n",
    "text = moskow.content"
   ]
  },
  {
   "cell_type": "code",
   "execution_count": 86,
   "metadata": {},
   "outputs": [],
   "source": [
    "from navec import Navec\n",
    "from slovnet import NER, Syntax, Morph\n",
    "from razdel import sentenize, tokenize\n",
    "from ipymarkup import show_span_ascii_markup\n",
    "from ipymarkup import show_dep_ascii_markup\n"
   ]
  },
  {
   "cell_type": "markdown",
   "metadata": {},
   "source": [
    "## NER распознавание именованных сущностей"
   ]
  },
  {
   "cell_type": "code",
   "execution_count": 85,
   "metadata": {},
   "outputs": [],
   "source": [
    "navec = Navec.load('navec_news_v1_1B_250K_300d_100q.tar')\n",
    "ner = NER.load('slovnet_ner_news_v1.tar')\n",
    "ner.navec(navec)\n",
    "\n",
    "#text = \"погода в городе Москва\"\n",
    "markup = ner(text)\n",
    "\n",
    "# print(type(markup))# slovnet.markup.SpanMarkup\n",
    "# print(dir(markup))  # markup.spans"
   ]
  },
  {
   "cell_type": "code",
   "execution_count": 69,
   "metadata": {},
   "outputs": [],
   "source": [
    "from collections import defaultdict\n",
    "\n",
    "ENTITIES = defaultdict(set)\n",
    "for span in markup.spans:\n",
    "    ENTITIES[span.type].add(text[slice(span.start,span.stop)])"
   ]
  },
  {
   "cell_type": "code",
   "execution_count": 58,
   "metadata": {},
   "outputs": [],
   "source": [
    "#ENTITIES"
   ]
  },
  {
   "cell_type": "code",
   "execution_count": 59,
   "metadata": {},
   "outputs": [
    {
     "name": "stdout",
     "output_type": "stream",
     "text": [
      "dict_keys(['LOC', 'ORG', 'PER'])\n"
     ]
    }
   ],
   "source": [
    "print(ENTITIES.keys())"
   ]
  },
  {
   "cell_type": "code",
   "execution_count": 65,
   "metadata": {},
   "outputs": [
    {
     "name": "stdout",
     "output_type": "stream",
     "text": [
      "['Театр Петра Фоменко', 'Банком Москвы', 'ГУМа', 'Москва', 'Экспериментаниум', 'НИИ;\\nТушинский машиностроительный завод', 'Национальным центром', 'Московской железной дороге', 'ССВ', 'Известия', 'Алмаз', 'Торпедо', 'Всероссийское государственное совещание', 'Московским государственным университетом им. М. В. Ломоносова', 'ЦСКА', 'Департамент транспорта', 'Центральный аэрогидродинамический институт им. Жуковского (ЦАГИ)', 'Советской России', 'Румянцевский музей', 'Научная библиотека']\n"
     ]
    }
   ],
   "source": [
    "print(list(ENTITIES[\"ORG\"])[:20])  # первые 20 сущностей"
   ]
  },
  {
   "cell_type": "code",
   "execution_count": 66,
   "metadata": {},
   "outputs": [
    {
     "name": "stdout",
     "output_type": "stream",
     "text": [
      "['Солнечногорским районом', 'Садовое', 'Воскресенские ворота', 'Воздвиженке', 'Большой Дмитровке', 'Николо-Архангельский', 'Арх Москва', 'Нью-Йорке', 'Сингапуром', 'Красносельский', 'Москву', 'Серебряном Бору', 'Восточно-Европейской', 'Южнопортовый', 'Зеленоградский административный округ', 'Ростовом-на-Дону', 'Москворецко-Окской равнины', 'Курского', 'Можайское княжества', 'Сетунь']\n"
     ]
    }
   ],
   "source": [
    "print(list(ENTITIES[\"LOC\"])[:20])\n"
   ]
  },
  {
   "cell_type": "code",
   "execution_count": 67,
   "metadata": {},
   "outputs": [
    {
     "name": "stdout",
     "output_type": "stream",
     "text": [
      "['Вахитов', 'Святославом Ольговичем', 'Иване III', 'М. И. Старая Москва', 'Юрий Долгорукий', 'Физико-географическая', 'Отв', 'Данииле Александровиче', 'Марка Самойловича Лисянского', 'Владимирский', 'Ф. А. Брокгауза', 'Юрия Даниловича', 'Петре II', 'Григорием Неуйминым', 'Исаака Осиповича Дунаевского', 'Ивана Заруцкого', 'А. Н. Пахмутова', 'В. А. Садовничий', 'Сергея Ивановича Аграняна', 'См']\n"
     ]
    }
   ],
   "source": [
    "print(list(ENTITIES[\"PER\"])[:20])"
   ]
  },
  {
   "cell_type": "markdown",
   "metadata": {},
   "source": [
    "## сегментация и токенизация"
   ]
  },
  {
   "cell_type": "code",
   "execution_count": 74,
   "metadata": {},
   "outputs": [
    {
     "name": "stdout",
     "output_type": "stream",
     "text": [
      "['Москва́', '(', 'произношение', ')', '—', 'столица', 'России', ',', 'город', 'федерального', 'значения', ',', 'административный', 'центр', 'Центрального', 'федерального', 'округа', 'и', 'центр', 'Московской', 'области', ',', 'в', 'состав', 'которой', 'не', 'входит', '.']\n",
      "['Крупнейший', 'по', 'численности', 'населения', 'город', 'России', 'и', 'её', 'субъект', '—', '12', '655', '050', 'человек', '(', '2021', ')', ',', 'самый', 'населённый', 'из', 'городов', ',', 'полностью', 'расположенных', 'в', 'Европе', ',', 'входит', 'в', 'десятку', 'городов', 'мира', 'по', 'численности', 'населения', ',', 'крупнейший', 'русскоязычный', 'город', 'в', 'мире', '.']\n",
      "['Центр', 'Московской', 'городской', 'агломерации', '.']\n",
      "['Историческая', 'столица', 'Великого', 'княжества', 'Московского', ',', 'Русского', 'царства', ',', 'Российской', 'империи', '(', 'в', '1728—1730', 'годах', ')', ',', 'Советской', 'России', 'и', 'СССР', '.']\n",
      "['Город-герой', '.']\n",
      "['В', 'Москве', 'находятся', 'федеральные', 'органы', 'государственной', 'власти', 'Российской', 'Федерации', '(', 'за', 'исключением', 'Конституционного', 'суда', ')', ',', 'посольства', 'иностранных', 'государств', ',', 'штаб-квартиры', 'большинства', 'крупнейших', 'российских', 'коммерческих', 'организаций', 'и', 'общественных', 'объединений', '.']\n",
      "['Расположена', 'на', 'западе', 'России', ',', 'на', 'реке', 'Москве', 'в', 'центре', 'Восточно-Европейской', 'равнины', ',', 'в', 'междуречье', 'Оки', 'и', 'Волги', '.']\n",
      "['Как', 'субъект', 'федерации', ',', 'Москва', 'граничит', 'с', 'Московской', 'и', 'Калужской', 'областями', '.']\n",
      "['Москва', '—', 'популярный', 'туристический', 'центр', 'России', '.']\n",
      "['Кремль', ',', 'Красная', 'площадь', ',', 'Новодевичий', 'монастырь', 'и', 'Церковь', 'Вознесения', 'в', 'Коломенском', 'входят', 'в', 'список', 'объектов', 'всемирного', 'наследия', 'ЮНЕСКО', '.']\n"
     ]
    }
   ],
   "source": [
    "chunks = []\n",
    "for sent in sentenize(text):\n",
    "    tokens = [_.text for _ in tokenize(sent.text)]\n",
    "    chunks.append(tokens)\n",
    "\n",
    "for sent in chunks[:10]:\n",
    "    print(sent)"
   ]
  },
  {
   "cell_type": "markdown",
   "metadata": {},
   "source": [
    "## syntax"
   ]
  },
  {
   "cell_type": "code",
   "execution_count": 83,
   "metadata": {},
   "outputs": [
    {
     "name": "stdout",
     "output_type": "stream",
     "text": [
      "        ┌────► Москва́          nsubj\n",
      "        │   ┌► (                punct\n",
      "        │ ┌─└─ произношение     \n",
      "        │ └──► )                punct\n",
      "        │   ┌► —                punct\n",
      "┌─┌─┌─┌─└─┌─└─ столица          \n",
      "│ │ │ │ │ └──► России           nmod\n",
      "│ │ │ │ │   ┌► ,                punct\n",
      "│ │ │ │ └►┌─└─ город            conj\n",
      "│ │ │ │   │ ┌► федерального     amod\n",
      "│ │ │ │   └►└─ значения         nmod\n",
      "│ │ │ │   ┌──► ,                punct\n",
      "│ │ │ │   │ ┌► административный amod\n",
      "│ │ │ └►┌─└─└─ центр            conj\n",
      "│ │ │   │ ┌──► Центрального     amod\n",
      "│ │ │   │ │ ┌► федерального     amod\n",
      "│ │ │   └►└─└─ округа           nmod\n",
      "│ │ │       ┌► и                cc\n",
      "│ │ └────►┌─└─ центр            conj\n",
      "│ │       │ ┌► Московской       amod\n",
      "│ │       └►└─ области          nmod\n",
      "│ │   ┌──────► ,                punct\n",
      "│ │   │     ┌► в                case\n",
      "│ │   │ ┌►┌─└─ состав           obl\n",
      "│ │   │ │ └──► которой          nmod\n",
      "│ │   │ │   ┌► не               advmod\n",
      "│ └──►└─└───└─ входит           acl:relcl\n",
      "└────────────► .                punct\n"
     ]
    }
   ],
   "source": [
    "syntax = Syntax.load('slovnet_syntax_news_v1.tar')\n",
    "syntax.navec(navec)\n",
    "markup = next(syntax.map(chunks[:1]))\n",
    "\n",
    "# Convert CoNLL-style format to source, target indices\n",
    "words, deps = [], []\n",
    "for token in markup.tokens:\n",
    "    words.append(token.text)\n",
    "    source = int(token.head_id) - 1\n",
    "    target = int(token.id) - 1\n",
    "    if source > 0 and source != target:  # skip root, loops\n",
    "        deps.append([source, target, token.rel])\n",
    "\n",
    "show_dep_ascii_markup(words, deps)"
   ]
  },
  {
   "cell_type": "markdown",
   "metadata": {},
   "source": [
    "## morfology"
   ]
  },
  {
   "cell_type": "code",
   "execution_count": 87,
   "metadata": {},
   "outputs": [
    {
     "name": "stdout",
     "output_type": "stream",
     "text": [
      "             Москва́ PROPN|Animacy=Anim|Case=Gen|Gender=Masc|Number=Sing\n",
      "                   ( PUNCT\n",
      "        произношение NOUN|Animacy=Inan|Case=Nom|Gender=Neut|Number=Sing\n",
      "                   ) PUNCT\n",
      "                   — PUNCT\n",
      "             столица NOUN|Animacy=Inan|Case=Nom|Gender=Fem|Number=Sing\n",
      "              России PROPN|Animacy=Inan|Case=Gen|Gender=Fem|Number=Sing\n",
      "                   , PUNCT\n",
      "               город NOUN|Animacy=Inan|Case=Nom|Gender=Masc|Number=Sing\n",
      "        федерального ADJ|Case=Gen|Degree=Pos|Gender=Neut|Number=Sing\n",
      "            значения NOUN|Animacy=Inan|Case=Gen|Gender=Neut|Number=Sing\n",
      "                   , PUNCT\n",
      "    административный ADJ|Case=Nom|Degree=Pos|Gender=Masc|Number=Sing\n",
      "               центр NOUN|Animacy=Inan|Case=Nom|Gender=Masc|Number=Sing\n",
      "        Центрального ADJ|Case=Gen|Degree=Pos|Gender=Masc|Number=Sing\n",
      "        федерального ADJ|Case=Gen|Degree=Pos|Gender=Masc|Number=Sing\n",
      "              округа NOUN|Animacy=Inan|Case=Gen|Gender=Masc|Number=Sing\n",
      "                   и CCONJ\n",
      "               центр NOUN|Animacy=Inan|Case=Nom|Gender=Masc|Number=Sing\n",
      "          Московской ADJ|Case=Gen|Degree=Pos|Gender=Fem|Number=Sing\n",
      "             области NOUN|Animacy=Inan|Case=Gen|Gender=Fem|Number=Sing\n",
      "                   , PUNCT\n",
      "                   в ADP\n",
      "              состав NOUN|Animacy=Inan|Case=Acc|Gender=Masc|Number=Sing\n",
      "             которой PRON|Case=Gen|Gender=Fem|Number=Sing\n",
      "                  не PART|Polarity=Neg\n",
      "              входит VERB|Aspect=Imp|Mood=Ind|Number=Sing|Person=3|Tense=Pres|VerbForm=Fin|Voice=Act\n",
      "                   . PUNCT\n"
     ]
    }
   ],
   "source": [
    "morph = Morph.load('slovnet_morph_news_v1.tar', batch_size=4)\n",
    "morph.navec(navec)\n",
    "\n",
    "markup = next(morph.map(chunks[:1]))\n",
    "for token in markup.tokens:\n",
    "    print(f'{token.text:>20} {token.tag}')"
   ]
  },
  {
   "cell_type": "code",
   "execution_count": null,
   "metadata": {},
   "outputs": [],
   "source": []
  }
 ],
 "metadata": {
  "kernelspec": {
   "display_name": "Python 3",
   "language": "python",
   "name": "python3"
  },
  "language_info": {
   "codemirror_mode": {
    "name": "ipython",
    "version": 3
   },
   "file_extension": ".py",
   "mimetype": "text/x-python",
   "name": "python",
   "nbconvert_exporter": "python",
   "pygments_lexer": "ipython3",
   "version": "3.7.6"
  }
 },
 "nbformat": 4,
 "nbformat_minor": 4
}
