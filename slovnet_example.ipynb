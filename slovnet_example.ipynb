{
 "cells": [
  {
   "cell_type": "code",
   "execution_count": 39,
   "metadata": {},
   "outputs": [
    {
     "name": "stdout",
     "output_type": "stream",
     "text": [
      "G:\\python\\notebooks\n",
      "Active code page: 65001\n"
     ]
    }
   ],
   "source": [
    "# !pip install wikipedia\n",
    "!cd \n",
    "# текущий каталог загрузки - папка с блокнотами\n",
    "!chcp 65001\n",
    "# 25 mb - этот через notebook почему-то тупит при загрузке\n",
    "#!wget https://storage.yandexcloud.net/natasha-navec/packs/navec_news_v1_1B_250K_300d_100q.tar\n",
    "# 2mb\n",
    "#!wget https://storage.yandexcloud.net/natasha-slovnet/packs/slovnet_ner_news_v1.tar   \n",
    "    "
   ]
  },
  {
   "cell_type": "code",
   "execution_count": 17,
   "metadata": {},
   "outputs": [],
   "source": [
    "import wikipedia\n",
    "\n",
    "wikipedia.set_lang(\"ru\")\n",
    "moskow = wikipedia.page(\"Москва\")\n",
    "text = moskow.content"
   ]
  },
  {
   "cell_type": "code",
   "execution_count": 40,
   "metadata": {},
   "outputs": [],
   "source": [
    "from navec import Navec\n",
    "from slovnet import NER\n",
    "#from ipymarkup import show_span_ascii_markup as show_markup\n",
    "\n",
    "navec = Navec.load('navec_news_v1_1B_250K_300d_100q.tar')\n",
    "ner = NER.load('slovnet_ner_news_v1.tar')\n",
    "ner.navec(navec)\n",
    "\n",
    "markup = ner(text)\n",
    "\n",
    "# print(type(markup))# slovnet.markup.SpanMarkup\n",
    "# print(dir(markup))  # markup.spans\n",
    "\n",
    "from collections import defaultdict\n",
    "\n",
    "ENTITIES = defaultdict(list)\n",
    "for span in markup.spans:\n",
    "    ENTITIES[span.type].append(text[slice(span.start,span.stop)])"
   ]
  },
  {
   "cell_type": "code",
   "execution_count": 41,
   "metadata": {},
   "outputs": [
    {
     "name": "stdout",
     "output_type": "stream",
     "text": [
      "dict_keys(['LOC', 'ORG', 'PER'])\n"
     ]
    }
   ],
   "source": [
    "print(ENTITIES.keys())"
   ]
  },
  {
   "cell_type": "code",
   "execution_count": 44,
   "metadata": {},
   "outputs": [
    {
     "name": "stdout",
     "output_type": "stream",
     "text": [
      "['Московской городской агломерации', 'Русского царства', 'Советской России', 'Конституционного суда', 'Новодевичий монастырь', 'Церковь Вознесения', 'ЮНЕСКО', 'Москва', 'ВДНХ', 'ВДНХ']\n"
     ]
    }
   ],
   "source": [
    "print(ENTITIES[\"ORG\"][:10])  # первые 10 сущностей"
   ]
  },
  {
   "cell_type": "code",
   "execution_count": 45,
   "metadata": {},
   "outputs": [
    {
     "name": "stdout",
     "output_type": "stream",
     "text": [
      "['России', 'Центрального федерального округа', 'Московской области', 'России', 'Европе', 'Великого княжества', 'Московского', 'Российской империи', 'СССР', 'Город-герой']\n"
     ]
    }
   ],
   "source": [
    "print(ENTITIES[\"LOC\"][:10])\n"
   ]
  },
  {
   "cell_type": "code",
   "execution_count": 46,
   "metadata": {},
   "outputs": [
    {
     "name": "stdout",
     "output_type": "stream",
     "text": [
      "['Этимология', 'М. Фасмер', 'В. П. Нерознак', 'Физико-географическая', 'Зайцев', 'Чёрной', 'Марьинской', 'См', 'Ипатьевской', 'Юрий Долгорукий']\n"
     ]
    }
   ],
   "source": [
    "print(ENTITIES[\"PER\"][:10])"
   ]
  },
  {
   "cell_type": "code",
   "execution_count": null,
   "metadata": {},
   "outputs": [],
   "source": []
  }
 ],
 "metadata": {
  "kernelspec": {
   "display_name": "Python 3",
   "language": "python",
   "name": "python3"
  },
  "language_info": {
   "codemirror_mode": {
    "name": "ipython",
    "version": 3
   },
   "file_extension": ".py",
   "mimetype": "text/x-python",
   "name": "python",
   "nbconvert_exporter": "python",
   "pygments_lexer": "ipython3",
   "version": "3.7.6"
  }
 },
 "nbformat": 4,
 "nbformat_minor": 4
}
